{
 "cells": [
  {
   "cell_type": "code",
   "execution_count": null,
   "metadata": {
    "vscode": {
     "languageId": "plaintext"
    }
   },
   "outputs": [],
   "source": [
    "import os\n",
    "import random\n",
    "import shutil  # Dùng để di chuyển file\n",
    "\n",
    "# Đường dẫn tới thư mục gốc chứa ảnh\n",
    "image_dir = \"/kaggle/input/data-image-vie/256\"\n",
    "\n",
    "# Đường dẫn để lưu ảnh đã chia\n",
    "output_dir = \"/kaggle/working/dataset\"\n",
    "train_dir = os.path.join(output_dir, \"train\")\n",
    "val_dir = os.path.join(output_dir, \"val\")\n",
    "\n",
    "# Tạo thư mục train/ và val/\n",
    "os.makedirs(train_dir, exist_ok=True)\n",
    "os.makedirs(val_dir, exist_ok=True)\n",
    "\n",
    "# Lấy danh sách tất cả ảnh có trong thư mục\n",
    "image_files = [f for f in os.listdir(image_dir) if f.endswith(\".jpg\")]\n",
    "\n",
    "# Xáo trộn danh sách ảnh để tránh bias\n",
    "random.shuffle(image_files)\n",
    "\n",
    "# Chia 80% train, 20% val\n",
    "split_ratio = 0.8\n",
    "split_index = int(len(image_files) * split_ratio)\n",
    "\n",
    "train_files = image_files[:split_index]\n",
    "val_files = image_files[split_index:]\n",
    "\n",
    "# Di chuyển file vào thư mục train/ và val/\n",
    "for file in train_files:\n",
    "    shutil.copy(os.path.join(image_dir, file), os.path.join(train_dir, file))\n",
    "\n",
    "for file in val_files:\n",
    "    shutil.copy(os.path.join(image_dir, file), os.path.join(val_dir, file))\n",
    "\n",
    "# Kiểm tra số lượng ảnh sau khi chia\n",
    "print(f\"✅ Chia dữ liệu thành công!\")\n",
    "print(f\"📂 {len(train_files)} ảnh trong thư mục train/: {train_dir}\")\n",
    "print(f\"📂 {len(val_files)} ảnh trong thư mục val/: {val_dir}\")"
   ]
  },
  {
   "cell_type": "code",
   "execution_count": null,
   "metadata": {
    "vscode": {
     "languageId": "plaintext"
    }
   },
   "outputs": [],
   "source": [
    "# Tạo file txt chứa danh sách ảnh\n",
    "train_txt = os.path.join(output_dir, \"train.txt\")\n",
    "val_txt = os.path.join(output_dir, \"val.txt\")\n",
    "\n",
    "with open(train_txt, \"w\") as f:\n",
    "    for file in train_files:\n",
    "        f.write(file + \"\\n\")\n",
    "\n",
    "with open(val_txt, \"w\") as f:\n",
    "    for file in val_files:\n",
    "        f.write(file + \"\\n\")\n",
    "\n",
    "print(f\"📄 Danh sách train lưu tại: {train_txt}\")\n",
    "print(f\"📄 Danh sách val lưu tại: {val_txt}\")"
   ]
  },
  {
   "cell_type": "code",
   "execution_count": null,
   "metadata": {
    "vscode": {
     "languageId": "plaintext"
    }
   },
   "outputs": [],
   "source": [
    "import torch\n",
    "print(torch.cuda.is_available())  # True nếu GPU hoạt động\n",
    "print(torch.cuda.device_count())  # Số lượng GPU\n",
    "print(torch.cuda.get_device_name(0))  # Tên GPU"
   ]
  },
  {
   "cell_type": "code",
   "execution_count": null,
   "metadata": {
    "vscode": {
     "languageId": "plaintext"
    }
   },
   "outputs": [],
   "source": [
    "!pip install --no-cache-dir Pillow>=9.0.1\n",
    "!pip install --no-cache-dir scipy==1.11.2\n",
    "!pip install --no-cache-dir awscli\n",
    "!pip install --no-cache-dir botocore\n",
    "!pip install --no-cache-dir mlxtend\n",
    "!pip install --no-cache-dir scikit-learn==1.3.1\n",
    "!pip install --no-cache-dir matplotlib==3.8.0"
   ]
  },
  {
   "cell_type": "code",
   "execution_count": null,
   "metadata": {
    "vscode": {
     "languageId": "plaintext"
    }
   },
   "outputs": [],
   "source": [
    "!git clone https://github.com/sonhung3200/fixed_srec.git"
   ]
  },
  {
   "cell_type": "code",
   "execution_count": null,
   "metadata": {
    "vscode": {
     "languageId": "plaintext"
    }
   },
   "outputs": [],
   "source": [
    "!python3 -um src.train \\\n",
    "  --train-path \"/kaggle/working/dataset/train\" \\\n",
    "  --train-file \"/kaggle/working/dataset/train.txt\" \\\n",
    "  --eval-path \"/kaggle/working/dataset/val\" \\\n",
    "  --eval-file \"/kaggle/working/dataset/val.txt\" \\\n",
    "  --plot \"/kaggle/working/model_output\" \\\n",
    "  --batch 32 \\\n",
    "  --epochs 10 \\\n",
    "  --workers 4 \\\n",
    "  --lr-epochs 1 \\\n",
    "  --crop 64"
   ]
  }
 ],
 "metadata": {
  "language_info": {
   "name": "python"
  }
 },
 "nbformat": 4,
 "nbformat_minor": 2
}
